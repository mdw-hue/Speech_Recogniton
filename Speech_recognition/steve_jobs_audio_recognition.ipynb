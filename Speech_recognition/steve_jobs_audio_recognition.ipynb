{
 "cells": [
  {
   "cell_type": "code",
   "execution_count": 1,
   "metadata": {},
   "outputs": [],
   "source": [
    "# pip install SpeechRecognition\n",
    "# conda install pyaudio"
   ]
  },
  {
   "cell_type": "code",
   "execution_count": 6,
   "metadata": {},
   "outputs": [],
   "source": [
    "import speech_recognition as sr"
   ]
  },
  {
   "cell_type": "code",
   "execution_count": 7,
   "metadata": {},
   "outputs": [],
   "source": [
    "r = sr.Recognizer()"
   ]
  },
  {
   "cell_type": "code",
   "execution_count": 9,
   "metadata": {},
   "outputs": [
    {
     "name": "stdout",
     "output_type": "stream",
     "text": [
      "working on it .. \n",
      "graduation today I want to tell you three stories for my life that's just read stories story is back connecting the dots I dropped RV College after the first 6 months but there is a drop in for 18 months before I will be quiet quiet I drop out it started before I was born on my mother was young onward graduates and she decided the production of his wife this is my life without you I was spinning all the money my parents save the entire life to the dropout\n"
     ]
    }
   ],
   "source": [
    "with sr.AudioFile(\"C:\\\\Users\\\\admin\\\\Downloads\\\\Speech_recognition\\\\SteveJobsSpeech_2min.wav\") as source :\n",
    "    audio = r.listen(source)\n",
    "    try:\n",
    "        text = r.recognize_google(audio)\n",
    "        print(\"working on it .. \")\n",
    "        print(text)\n",
    "    except:\n",
    "        print(\"something went wrong ! try again ..\")"
   ]
  },
  {
   "cell_type": "code",
   "execution_count": null,
   "metadata": {},
   "outputs": [],
   "source": []
  }
 ],
 "metadata": {
  "kernelspec": {
   "display_name": "Python 3",
   "language": "python",
   "name": "python3"
  },
  "language_info": {
   "codemirror_mode": {
    "name": "ipython",
    "version": 3
   },
   "file_extension": ".py",
   "mimetype": "text/x-python",
   "name": "python",
   "nbconvert_exporter": "python",
   "pygments_lexer": "ipython3",
   "version": "3.7.3"
  }
 },
 "nbformat": 4,
 "nbformat_minor": 4
}
